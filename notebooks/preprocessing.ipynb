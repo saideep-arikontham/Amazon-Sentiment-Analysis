{
 "cells": [
  {
   "cell_type": "code",
   "execution_count": 21,
   "id": "initial_id",
   "metadata": {
    "ExecuteTime": {
     "end_time": "2024-03-17T23:07:22.172430Z",
     "start_time": "2024-03-17T23:07:22.169690Z"
    },
    "collapsed": true
   },
   "outputs": [],
   "source": [
    "import pandas as pd\n",
    "import nltk\n",
    "from nltk.corpus import stopwords\n",
    "import re\n",
    "import contractions\n",
    "import matplotlib.pyplot as plt\n"
   ]
  },
  {
   "cell_type": "code",
   "execution_count": 22,
   "id": "45121d7d739ef633",
   "metadata": {
    "ExecuteTime": {
     "end_time": "2024-03-17T23:07:25.677068Z",
     "start_time": "2024-03-17T23:07:22.184521Z"
    }
   },
   "outputs": [
    {
     "name": "stdout",
     "output_type": "stream",
     "text": [
      "Data has 234161 rows and 9 columns\n"
     ]
    },
    {
     "data": {
      "text/html": [
       "<div>\n",
       "<style scoped>\n",
       "    .dataframe tbody tr th:only-of-type {\n",
       "        vertical-align: middle;\n",
       "    }\n",
       "\n",
       "    .dataframe tbody tr th {\n",
       "        vertical-align: top;\n",
       "    }\n",
       "\n",
       "    .dataframe thead th {\n",
       "        text-align: right;\n",
       "    }\n",
       "</style>\n",
       "<table border=\"1\" class=\"dataframe\">\n",
       "  <thead>\n",
       "    <tr style=\"text-align: right;\">\n",
       "      <th></th>\n",
       "      <th>reviewerID</th>\n",
       "      <th>asin</th>\n",
       "      <th>reviewerName</th>\n",
       "      <th>helpful</th>\n",
       "      <th>reviewText</th>\n",
       "      <th>overall</th>\n",
       "      <th>summary</th>\n",
       "      <th>unixReviewTime</th>\n",
       "      <th>reviewTime</th>\n",
       "    </tr>\n",
       "  </thead>\n",
       "  <tbody>\n",
       "    <tr>\n",
       "      <th>0</th>\n",
       "      <td>A2HD75EMZR8QLN</td>\n",
       "      <td>0700099867</td>\n",
       "      <td>123</td>\n",
       "      <td>[8, 12]</td>\n",
       "      <td>Installing the game was a struggle (because of...</td>\n",
       "      <td>1</td>\n",
       "      <td>Pay to unlock content? I don't think so.</td>\n",
       "      <td>1341792000</td>\n",
       "      <td>07 9, 2012</td>\n",
       "    </tr>\n",
       "    <tr>\n",
       "      <th>1</th>\n",
       "      <td>A3UR8NLLY1ZHCX</td>\n",
       "      <td>0700099867</td>\n",
       "      <td>Alejandro Henao \"Electronic Junky\"</td>\n",
       "      <td>[0, 0]</td>\n",
       "      <td>If you like rally cars get this game you will ...</td>\n",
       "      <td>4</td>\n",
       "      <td>Good rally game</td>\n",
       "      <td>1372550400</td>\n",
       "      <td>06 30, 2013</td>\n",
       "    </tr>\n",
       "    <tr>\n",
       "      <th>2</th>\n",
       "      <td>A1INA0F5CWW3J4</td>\n",
       "      <td>0700099867</td>\n",
       "      <td>Amazon Shopper \"Mr.Repsol\"</td>\n",
       "      <td>[0, 0]</td>\n",
       "      <td>1st shipment received a book instead of the ga...</td>\n",
       "      <td>1</td>\n",
       "      <td>Wrong key</td>\n",
       "      <td>1403913600</td>\n",
       "      <td>06 28, 2014</td>\n",
       "    </tr>\n",
       "    <tr>\n",
       "      <th>3</th>\n",
       "      <td>A361M14PU2GUEG</td>\n",
       "      <td>0700099867</td>\n",
       "      <td>Angry Ryan \"Ryan A. Forrest\"</td>\n",
       "      <td>[2, 2]</td>\n",
       "      <td>I had Dirt 2 on Xbox 360 and it was an okay ga...</td>\n",
       "      <td>4</td>\n",
       "      <td>DIRT 3</td>\n",
       "      <td>1308009600</td>\n",
       "      <td>06 14, 2011</td>\n",
       "    </tr>\n",
       "    <tr>\n",
       "      <th>4</th>\n",
       "      <td>A2UTRVO4FDCBH6</td>\n",
       "      <td>0700099867</td>\n",
       "      <td>A.R.G.</td>\n",
       "      <td>[0, 0]</td>\n",
       "      <td>Overall this is a well done racing game, with ...</td>\n",
       "      <td>4</td>\n",
       "      <td>Good racing game, terrible Windows Live Requir...</td>\n",
       "      <td>1368230400</td>\n",
       "      <td>05 11, 2013</td>\n",
       "    </tr>\n",
       "  </tbody>\n",
       "</table>\n",
       "</div>"
      ],
      "text/plain": [
       "       reviewerID        asin                        reviewerName  helpful  \\\n",
       "0  A2HD75EMZR8QLN  0700099867                                 123  [8, 12]   \n",
       "1  A3UR8NLLY1ZHCX  0700099867  Alejandro Henao \"Electronic Junky\"   [0, 0]   \n",
       "2  A1INA0F5CWW3J4  0700099867          Amazon Shopper \"Mr.Repsol\"   [0, 0]   \n",
       "3  A361M14PU2GUEG  0700099867        Angry Ryan \"Ryan A. Forrest\"   [2, 2]   \n",
       "4  A2UTRVO4FDCBH6  0700099867                              A.R.G.   [0, 0]   \n",
       "\n",
       "                                          reviewText  overall  \\\n",
       "0  Installing the game was a struggle (because of...        1   \n",
       "1  If you like rally cars get this game you will ...        4   \n",
       "2  1st shipment received a book instead of the ga...        1   \n",
       "3  I had Dirt 2 on Xbox 360 and it was an okay ga...        4   \n",
       "4  Overall this is a well done racing game, with ...        4   \n",
       "\n",
       "                                             summary  unixReviewTime  \\\n",
       "0           Pay to unlock content? I don't think so.      1341792000   \n",
       "1                                    Good rally game      1372550400   \n",
       "2                                          Wrong key      1403913600   \n",
       "3                                             DIRT 3      1308009600   \n",
       "4  Good racing game, terrible Windows Live Requir...      1368230400   \n",
       "\n",
       "    reviewTime  \n",
       "0   07 9, 2012  \n",
       "1  06 30, 2013  \n",
       "2  06 28, 2014  \n",
       "3  06 14, 2011  \n",
       "4  05 11, 2013  "
      ]
     },
     "execution_count": 22,
     "metadata": {},
     "output_type": "execute_result"
    }
   ],
   "source": [
    "#reading above created file\n",
    "df = pd.read_csv('data/reviews.csv')\n",
    "print(f'Data has {df.shape[0]} rows and {df.shape[1]} columns')\n",
    "df.head(5)"
   ]
  },
  {
   "cell_type": "code",
   "execution_count": 23,
   "id": "64a23ad3fd588fb0",
   "metadata": {
    "ExecuteTime": {
     "end_time": "2024-03-17T23:07:25.688450Z",
     "start_time": "2024-03-17T23:07:25.679150Z"
    }
   },
   "outputs": [],
   "source": [
    "#bad reviews - 0\n",
    "df.loc[df['overall'].isin([1, 2]), 'overall'] = 0\n",
    "\n",
    "#Good reviews - 1\n",
    "df.loc[df['overall'].isin([4, 5]), 'overall'] = 1"
   ]
  },
  {
   "cell_type": "code",
   "execution_count": 24,
   "id": "21644a0976a52e76",
   "metadata": {
    "ExecuteTime": {
     "end_time": "2024-03-17T23:07:25.695355Z",
     "start_time": "2024-03-17T23:07:25.689479Z"
    }
   },
   "outputs": [
    {
     "data": {
      "text/plain": [
       "overall\n",
       "1    203305\n",
       "0     30856\n",
       "Name: count, dtype: int64"
      ]
     },
     "execution_count": 24,
     "metadata": {},
     "output_type": "execute_result"
    }
   ],
   "source": [
    "#good and bad reviews distribution\n",
    "df['overall'].value_counts()"
   ]
  },
  {
   "cell_type": "code",
   "execution_count": 25,
   "id": "954da20d909f1922",
   "metadata": {
    "ExecuteTime": {
     "end_time": "2024-03-17T23:07:25.799017Z",
     "start_time": "2024-03-17T23:07:25.697223Z"
    }
   },
   "outputs": [
    {
     "data": {
      "image/png": "[encoded data removed]",
      "text/plain": [
       "<Figure size 640x480 with 1 Axes>"
      ]
     },
     "metadata": {},
     "output_type": "display_data"
    }
   ],
   "source": [
    "#pie chart for review distribution\n",
    "plt.pie(df['overall'].value_counts(), labels = ['good','bad'],autopct = '%1.2f%%')\n",
    "plt.show()"
   ]
  },
  {
   "cell_type": "code",
   "execution_count": 26,
   "id": "6dde8e0792fb0355",
   "metadata": {
    "ExecuteTime": {
     "end_time": "2024-03-17T23:07:25.833952Z",
     "start_time": "2024-03-17T23:07:25.801320Z"
    }
   },
   "outputs": [
    {
     "data": {
      "text/html": [
       "<div>\n",
       "<style scoped>\n",
       "    .dataframe tbody tr th:only-of-type {\n",
       "        vertical-align: middle;\n",
       "    }\n",
       "\n",
       "    .dataframe tbody tr th {\n",
       "        vertical-align: top;\n",
       "    }\n",
       "\n",
       "    .dataframe thead th {\n",
       "        text-align: right;\n",
       "    }\n",
       "</style>\n",
       "<table border=\"1\" class=\"dataframe\">\n",
       "  <thead>\n",
       "    <tr style=\"text-align: right;\">\n",
       "      <th></th>\n",
       "      <th>helpful</th>\n",
       "      <th>reviewText</th>\n",
       "      <th>overall</th>\n",
       "    </tr>\n",
       "  </thead>\n",
       "  <tbody>\n",
       "    <tr>\n",
       "      <th>0</th>\n",
       "      <td>[8, 12]</td>\n",
       "      <td>Installing the game was a struggle (because of...</td>\n",
       "      <td>0</td>\n",
       "    </tr>\n",
       "    <tr>\n",
       "      <th>1</th>\n",
       "      <td>[0, 0]</td>\n",
       "      <td>If you like rally cars get this game you will ...</td>\n",
       "      <td>1</td>\n",
       "    </tr>\n",
       "    <tr>\n",
       "      <th>2</th>\n",
       "      <td>[0, 0]</td>\n",
       "      <td>1st shipment received a book instead of the ga...</td>\n",
       "      <td>0</td>\n",
       "    </tr>\n",
       "    <tr>\n",
       "      <th>3</th>\n",
       "      <td>[2, 2]</td>\n",
       "      <td>I had Dirt 2 on Xbox 360 and it was an okay ga...</td>\n",
       "      <td>1</td>\n",
       "    </tr>\n",
       "    <tr>\n",
       "      <th>4</th>\n",
       "      <td>[0, 0]</td>\n",
       "      <td>Overall this is a well done racing game, with ...</td>\n",
       "      <td>1</td>\n",
       "    </tr>\n",
       "  </tbody>\n",
       "</table>\n",
       "</div>"
      ],
      "text/plain": [
       "   helpful                                         reviewText  overall\n",
       "0  [8, 12]  Installing the game was a struggle (because of...        0\n",
       "1   [0, 0]  If you like rally cars get this game you will ...        1\n",
       "2   [0, 0]  1st shipment received a book instead of the ga...        0\n",
       "3   [2, 2]  I had Dirt 2 on Xbox 360 and it was an okay ga...        1\n",
       "4   [0, 0]  Overall this is a well done racing game, with ...        1"
      ]
     },
     "execution_count": 26,
     "metadata": {},
     "output_type": "execute_result"
    }
   ],
   "source": [
    "#dropping non ml attributes\n",
    "non_ml_attr = ['reviewerID','asin','reviewerName', 'unixReviewTime', 'reviewTime', 'summary']\n",
    "df.drop(non_ml_attr, axis=1, inplace=True)\n",
    "df.head(5)"
   ]
  },
  {
   "cell_type": "code",
   "execution_count": 27,
   "id": "17ee78efd0287a2",
   "metadata": {
    "ExecuteTime": {
     "end_time": "2024-03-17T23:07:38.135148Z",
     "start_time": "2024-03-17T23:07:25.836029Z"
    }
   },
   "outputs": [
    {
     "name": "stdout",
     "output_type": "stream",
     "text": [
      "Number of records where 2nd value of \"helpful\" is less than 1st value of \"helpful\" : 0\n",
      "\n",
      "Number of records where 2nd value of \"helpful\" is 0 but not 1st value of \"helpful\" : 0\n"
     ]
    }
   ],
   "source": [
    "import ast\n",
    "\n",
    "#the helpful column is interpreted as string. converting it to array.\n",
    "df['helpful'] = df['helpful'].apply(ast.literal_eval)\n",
    "\n",
    "print(f'''Number of records where 2nd value of \"helpful\" is less than 1st value of \"helpful\" : {df[df['helpful'].str[0] > df['helpful'].str[1]].shape[0]}''')\n",
    "print(f'''\\nNumber of records where 2nd value of \"helpful\" is 0 but not 1st value of \"helpful\" : {df[(df['helpful'].str[1] == 0) & (df['helpful'].str[0] != 0)].shape[0]}''')\n"
   ]
  },
  {
   "cell_type": "code",
   "execution_count": 28,
   "id": "8aef63203e4406e5",
   "metadata": {
    "ExecuteTime": {
     "end_time": "2024-03-17T23:07:38.436535Z",
     "start_time": "2024-03-17T23:07:38.136455Z"
    }
   },
   "outputs": [
    {
     "data": {
      "text/html": [
       "<div>\n",
       "<style scoped>\n",
       "    .dataframe tbody tr th:only-of-type {\n",
       "        vertical-align: middle;\n",
       "    }\n",
       "\n",
       "    .dataframe tbody tr th {\n",
       "        vertical-align: top;\n",
       "    }\n",
       "\n",
       "    .dataframe thead th {\n",
       "        text-align: right;\n",
       "    }\n",
       "</style>\n",
       "<table border=\"1\" class=\"dataframe\">\n",
       "  <thead>\n",
       "    <tr style=\"text-align: right;\">\n",
       "      <th></th>\n",
       "      <th>reviewText</th>\n",
       "      <th>overall</th>\n",
       "      <th>helpful_ratio</th>\n",
       "    </tr>\n",
       "  </thead>\n",
       "  <tbody>\n",
       "    <tr>\n",
       "      <th>0</th>\n",
       "      <td>Installing the game was a struggle (because of...</td>\n",
       "      <td>0</td>\n",
       "      <td>0.666667</td>\n",
       "    </tr>\n",
       "    <tr>\n",
       "      <th>1</th>\n",
       "      <td>If you like rally cars get this game you will ...</td>\n",
       "      <td>1</td>\n",
       "      <td>0.000000</td>\n",
       "    </tr>\n",
       "    <tr>\n",
       "      <th>2</th>\n",
       "      <td>1st shipment received a book instead of the ga...</td>\n",
       "      <td>0</td>\n",
       "      <td>0.000000</td>\n",
       "    </tr>\n",
       "    <tr>\n",
       "      <th>3</th>\n",
       "      <td>I had Dirt 2 on Xbox 360 and it was an okay ga...</td>\n",
       "      <td>1</td>\n",
       "      <td>1.000000</td>\n",
       "    </tr>\n",
       "    <tr>\n",
       "      <th>4</th>\n",
       "      <td>Overall this is a well done racing game, with ...</td>\n",
       "      <td>1</td>\n",
       "      <td>0.000000</td>\n",
       "    </tr>\n",
       "  </tbody>\n",
       "</table>\n",
       "</div>"
      ],
      "text/plain": [
       "                                          reviewText  overall  helpful_ratio\n",
       "0  Installing the game was a struggle (because of...        0       0.666667\n",
       "1  If you like rally cars get this game you will ...        1       0.000000\n",
       "2  1st shipment received a book instead of the ga...        0       0.000000\n",
       "3  I had Dirt 2 on Xbox 360 and it was an okay ga...        1       1.000000\n",
       "4  Overall this is a well done racing game, with ...        1       0.000000"
      ]
     },
     "execution_count": 28,
     "metadata": {},
     "output_type": "execute_result"
    }
   ],
   "source": [
    "#creating a helpful ratio : 1st value / 2nd value\n",
    "\n",
    "df['helpful_ratio'] = df['helpful'].apply(lambda x: x[0]/x[1] if x[1]!=0 else 0)\n",
    "df.drop(['helpful'], axis = 1, inplace = True)\n",
    "df.head(5)"
   ]
  },
  {
   "cell_type": "code",
   "execution_count": 29,
   "id": "f4cf6550488f2030",
   "metadata": {
    "ExecuteTime": {
     "end_time": "2024-03-17T23:07:38.509386Z",
     "start_time": "2024-03-17T23:07:38.437557Z"
    }
   },
   "outputs": [
    {
     "name": "stdout",
     "output_type": "stream",
     "text": [
      "Before:\n",
      "- No. of rows: 234161\n",
      "- Missing value report:\n"
     ]
    },
    {
     "data": {
      "text/plain": [
       "reviewText       60\n",
       "overall           0\n",
       "helpful_ratio     0\n",
       "dtype: int64"
      ]
     },
     "metadata": {},
     "output_type": "display_data"
    },
    {
     "name": "stdout",
     "output_type": "stream",
     "text": [
      "After:\n",
      "- No. of rows: 234101\n",
      "- Missing value report:\n"
     ]
    },
    {
     "data": {
      "text/plain": [
       "reviewText       0\n",
       "overall          0\n",
       "helpful_ratio    0\n",
       "dtype: int64"
      ]
     },
     "metadata": {},
     "output_type": "display_data"
    }
   ],
   "source": [
    "#dropping nulls\n",
    "print('Before:')\n",
    "print('- No. of rows:',df.shape[0])\n",
    "print('- Missing value report:')\n",
    "display(df.isna().sum())\n",
    "\n",
    "df.dropna(inplace = True)\n",
    "\n",
    "print('After:')\n",
    "print('- No. of rows:',df.shape[0])\n",
    "print('- Missing value report:')\n",
    "display(df.isna().sum())"
   ]
  },
  {
   "cell_type": "code",
   "execution_count": 30,
   "id": "3eec97886afd20dc",
   "metadata": {
    "ExecuteTime": {
     "end_time": "2024-03-17T23:07:38.583396Z",
     "start_time": "2024-03-17T23:07:38.510774Z"
    }
   },
   "outputs": [
    {
     "data": {
      "text/html": [
       "<div>\n",
       "<style scoped>\n",
       "    .dataframe tbody tr th:only-of-type {\n",
       "        vertical-align: middle;\n",
       "    }\n",
       "\n",
       "    .dataframe tbody tr th {\n",
       "        vertical-align: top;\n",
       "    }\n",
       "\n",
       "    .dataframe thead th {\n",
       "        text-align: right;\n",
       "    }\n",
       "</style>\n",
       "<table border=\"1\" class=\"dataframe\">\n",
       "  <thead>\n",
       "    <tr style=\"text-align: right;\">\n",
       "      <th></th>\n",
       "      <th>reviewText</th>\n",
       "      <th>overall</th>\n",
       "      <th>helpful_ratio</th>\n",
       "      <th>review_length</th>\n",
       "    </tr>\n",
       "  </thead>\n",
       "  <tbody>\n",
       "    <tr>\n",
       "      <th>0</th>\n",
       "      <td>Installing the game was a struggle (because of...</td>\n",
       "      <td>0</td>\n",
       "      <td>0.666667</td>\n",
       "      <td>779</td>\n",
       "    </tr>\n",
       "    <tr>\n",
       "      <th>1</th>\n",
       "      <td>If you like rally cars get this game you will ...</td>\n",
       "      <td>1</td>\n",
       "      <td>0.000000</td>\n",
       "      <td>304</td>\n",
       "    </tr>\n",
       "    <tr>\n",
       "      <th>2</th>\n",
       "      <td>1st shipment received a book instead of the ga...</td>\n",
       "      <td>0</td>\n",
       "      <td>0.000000</td>\n",
       "      <td>282</td>\n",
       "    </tr>\n",
       "    <tr>\n",
       "      <th>3</th>\n",
       "      <td>I had Dirt 2 on Xbox 360 and it was an okay ga...</td>\n",
       "      <td>1</td>\n",
       "      <td>1.000000</td>\n",
       "      <td>294</td>\n",
       "    </tr>\n",
       "    <tr>\n",
       "      <th>4</th>\n",
       "      <td>Overall this is a well done racing game, with ...</td>\n",
       "      <td>1</td>\n",
       "      <td>0.000000</td>\n",
       "      <td>715</td>\n",
       "    </tr>\n",
       "  </tbody>\n",
       "</table>\n",
       "</div>"
      ],
      "text/plain": [
       "                                          reviewText  overall  helpful_ratio  \\\n",
       "0  Installing the game was a struggle (because of...        0       0.666667   \n",
       "1  If you like rally cars get this game you will ...        1       0.000000   \n",
       "2  1st shipment received a book instead of the ga...        0       0.000000   \n",
       "3  I had Dirt 2 on Xbox 360 and it was an okay ga...        1       1.000000   \n",
       "4  Overall this is a well done racing game, with ...        1       0.000000   \n",
       "\n",
       "   review_length  \n",
       "0            779  \n",
       "1            304  \n",
       "2            282  \n",
       "3            294  \n",
       "4            715  "
      ]
     },
     "execution_count": 30,
     "metadata": {},
     "output_type": "execute_result"
    }
   ],
   "source": [
    "# create review length column\n",
    "df['review_length'] = df['reviewText'].apply(lambda x: len(x))\n",
    "df.head()"
   ]
  },
  {
   "cell_type": "markdown",
   "id": "551b4cdc39ac2c79",
   "metadata": {},
   "source": [
    "### Cleaning and tranforming"
   ]
  },
  {
   "cell_type": "code",
   "execution_count": 31,
   "id": "82ea87bcff8bc7ca",
   "metadata": {
    "ExecuteTime": {
     "end_time": "2024-03-17T23:07:38.595184Z",
     "start_time": "2024-03-17T23:07:38.585542Z"
    }
   },
   "outputs": [
    {
     "name": "stdout",
     "output_type": "stream",
     "text": [
      "{'didn', 'wouldn', 'with', 'herself', \"it's\", 'couldn', 'mustn', 'hadn', 'm', 'him', 'yours', 'my', \"shouldn't\", 'and', \"should've\", 'these', 'them', 'ain', 'ma', 'all', 'up', \"couldn't\", 'we', 'won', \"haven't\", \"she's\", 'those', \"wasn't\", 'he', 'me', \"needn't\", 'y', \"that'll\", 'were', 'is', \"you'd\", 'yourselves', 'his', 'between', 'be', 'doing', 'been', 'as', 'myself', 'themselves', 'in', 'it', 've', 'had', 'a', 'wasn', 'has', 'weren', 'some', 'was', 'shan', 'ourselves', 'who', 'this', 're', 'any', \"you're\", \"you've\", \"isn't\", 'have', 'are', 'her', 'only', \"hasn't\", 'other', 'shouldn', \"doesn't\", 'did', 'at', 'each', \"you'll\", 'isn', 'such', 'should', 'by', 'can', 'd', 'or', 'how', 'aren', 'while', 'you', 'under', 'your', 'does', 'they', 'there', 'don', 'haven', \"wouldn't\", 'its', 'to', 'having', 'out', 'll', 'yourself', 'theirs', 'that', 'than', 'the', 'mightn', 'of', 'for', 'so', 'until', 'off', 'on', 'doesn', 'then', 'about', 'more', 'our', 'here', 'from', 'am', 'himself', 'hers', 'again', 'own', 'o', \"hadn't\", 'do', \"don't\", 'their', 'now', \"mustn't\", 's', \"weren't\", 'into', 'ours', 't', 'an', \"didn't\", 'further', 'hasn', 'being', 'both', \"mightn't\", 'she', 'will', \"won't\", 'through', 'if', 'needn', \"aren't\", 'i', 'because', 'too', 'itself', \"shan't\"}\n"
     ]
    }
   ],
   "source": [
    "stop_words = set(stopwords.words('english'))\n",
    "\n",
    "#creating a list of words that might actually help in sentiment analysis \n",
    "#and removing them from stopwords\n",
    "x = ['few', 'once', 'same', 'below', 'above', 'during','over', 'after', 'most','before', 'just', 'against','very','no','which','where','what','nor','whom','why','when','down','but', 'not']\n",
    "for i in x:\n",
    "    stop_words.remove(i)\n",
    "print(stop_words)"
   ]
  },
  {
   "cell_type": "code",
   "execution_count": 32,
   "id": "3876e5ced84c157d",
   "metadata": {
    "ExecuteTime": {
     "end_time": "2024-03-17T23:07:38.598252Z",
     "start_time": "2024-03-17T23:07:38.595928Z"
    }
   },
   "outputs": [],
   "source": [
    "def preprocess_text(text):\n",
    "    '''\n",
    "    preprocessing the required text column to convert case, remove number, remove contractions and stopwords\n",
    "    '''\n",
    "    # Convert to lower case\n",
    "    text = text.lower()\n",
    "    \n",
    "    ## add space inbetween numbers and letters (e.g. 5mg to 5 mg, 17yo to 17 yo)\n",
    "    text = re.sub(r'(\\d+)([a-zA-Z])', r'\\1 \\2', text)\n",
    "    \n",
    "    #remove numbers\n",
    "    text = re.sub(r'\\d+', '', text)\n",
    "\n",
    "    # Expand contractions (e.g., \"can't\" to \"can not\")\n",
    "    text = contractions.fix(text)\n",
    "    \n",
    "    # Remove punctuation and special characters\n",
    "    text = re.sub(r'[^a-zA-Z0-9\\s]', ' ', text)\n",
    "\n",
    "    # Apply stopwords list\n",
    "    #stop_words = set(stopwords.words('english'))\n",
    "    text = ' '.join([word for word in text.split() if word not in stop_words])\n",
    "    \n",
    "\n",
    "    return text"
   ]
  },
  {
   "cell_type": "code",
   "execution_count": 33,
   "id": "12d241bee83673aa",
   "metadata": {
    "ExecuteTime": {
     "end_time": "2024-03-17T23:07:58.605874Z",
     "start_time": "2024-03-17T23:07:38.598813Z"
    }
   },
   "outputs": [
    {
     "data": {
      "text/plain": [
       "0    installing game struggle games windows live bu...\n",
       "1    like rally cars get game fun oriented european...\n",
       "2    st shipment received book instead game nd ship...\n",
       "Name: preprocessed_text, dtype: object"
      ]
     },
     "execution_count": 33,
     "metadata": {},
     "output_type": "execute_result"
    }
   ],
   "source": [
    "#preprocessing text\n",
    "df['preprocessed_text'] = df['reviewText'].apply(lambda x: preprocess_text(x))\n",
    "df['preprocessed_text'].head(3)"
   ]
  },
  {
   "cell_type": "code",
   "execution_count": 34,
   "id": "69a42b4843225f",
   "metadata": {
    "ExecuteTime": {
     "end_time": "2024-03-17T23:08:03.910494Z",
     "start_time": "2024-03-17T23:07:58.607073Z"
    }
   },
   "outputs": [
    {
     "data": {
      "text/plain": [
       "['handmultiple',\n",
       " 'daaaah',\n",
       " 'blockishness',\n",
       " 'storycould',\n",
       " 'atoned',\n",
       " 'soundtracknegative',\n",
       " 'includedwell',\n",
       " 'playeddante',\n",
       " 'serieshelicopter',\n",
       " 'eace']"
      ]
     },
     "execution_count": 34,
     "metadata": {},
     "output_type": "execute_result"
    }
   ],
   "source": [
    "#getting list of rare words - words that occur only once.\n",
    "#This might help in eliminating typos\n",
    "text = ' '.join(df['preprocessed_text'])\n",
    "text = text.split()\n",
    "freq_comm = pd.Series(text).value_counts()\n",
    "rare = freq_comm[freq_comm.values == 1]\n",
    "rare.index.tolist()[:10]"
   ]
  },
  {
   "cell_type": "code",
   "execution_count": 35,
   "id": "899cc6553e19459c",
   "metadata": {
    "ExecuteTime": {
     "end_time": "2024-03-17T23:08:03.915562Z",
     "start_time": "2024-03-17T23:08:03.911776Z"
    }
   },
   "outputs": [],
   "source": [
    "def remove_rare(text):\n",
    "    '''\n",
    "    function to remove rare words\n",
    "    '''\n",
    "    text = ' '.join([word for word in text.split() if word not in rare])\n",
    "    return text"
   ]
  },
  {
   "cell_type": "code",
   "execution_count": 36,
   "id": "e5f1998330461b44",
   "metadata": {
    "ExecuteTime": {
     "end_time": "2024-03-17T23:08:22.327636Z",
     "start_time": "2024-03-17T23:08:03.916319Z"
    }
   },
   "outputs": [
    {
     "data": {
      "text/plain": [
       "0    installing game struggle games windows live bu...\n",
       "1    like rally cars get game fun oriented european...\n",
       "2    st shipment received book instead game nd ship...\n",
       "Name: preprocessed_text, dtype: object"
      ]
     },
     "execution_count": 36,
     "metadata": {},
     "output_type": "execute_result"
    }
   ],
   "source": [
    "#removing the above rare words:\n",
    "df['preprocessed_text'] = df['preprocessed_text'].apply(lambda x: remove_rare(x))\n",
    "df['preprocessed_text'].head(3)\n"
   ]
  },
  {
   "cell_type": "code",
   "execution_count": 37,
   "id": "103359a1ff03e3d1",
   "metadata": {
    "ExecuteTime": {
     "end_time": "2024-03-17T23:08:28.786142Z",
     "start_time": "2024-03-17T23:08:22.329183Z"
    }
   },
   "outputs": [
    {
     "name": "stdout",
     "output_type": "stream",
     "text": [
      "[['installing', 'game', 'struggle', 'games', 'windows', 'live', 'bugs', 'championship', 'races', 'cars', 'unlocked', 'buying', 'addon', 'game', 'paid', 'nearly', 'dollars', 'when', 'game', 'new', 'not', 'like', 'idea', 'keep', 'paying', 'keep', 'playing', 'noticed', 'no', 'improvement', 'physics', 'graphics', 'compared', 'dirt', 'tossed', 'garbage', 'vowed', 'never', 'buy', 'another', 'codemasters', 'game', 'really', 'tired', 'arcade', 'style', 'rally', 'racing', 'games', 'anyway', 'continue', 'get', 'fix', 'richard', 'burns', 'rally', 'http', 'www', 'amazon', 'com', 'richard', 'burns', 'rally', 'pc', 'dp', 'b', 'c', 'ref', 'sr', 'ie', 'utf', 'qid', 'sr', 'keywords', 'richard', 'burns', 'reading', 'review', 'enjoyed', 'sure', 'rate', 'helpful'], ['like', 'rally', 'cars', 'get', 'game', 'fun', 'oriented', 'european', 'market', 'since', 'america', 'not', 'huge', 'rally', 'fan', 'party', 'music', 'very', 'european', 'even', 'voices', 'game', 'very', 'english', 'accent', 'multiplayer', 'not', 'best', 'but', 'works', 'just', 'ok'], ['st', 'shipment', 'received', 'book', 'instead', 'game', 'nd', 'shipment', 'got', 'fake', 'one', 'game', 'arrived', 'wrong', 'key', 'inside', 'sealed', 'box', 'got', 'contact', 'codemasters', 'send', 'pictures', 'dvd', 'content', 'said', 'nothing', 'fake', 'dvd', 'returned', 'good', 'bye']]\n"
     ]
    }
   ],
   "source": [
    "#creating list of words.\n",
    "#each element is a list of words in a sentence.\n",
    "words = []\n",
    "for i in df['preprocessed_text'].values:\n",
    "    words.append(i.split())\n",
    "print(words[:3])"
   ]
  },
  {
   "cell_type": "code",
   "execution_count": 38,
   "id": "d54e673ab604e175",
   "metadata": {
    "ExecuteTime": {
     "end_time": "2024-03-17T23:08:28.897103Z",
     "start_time": "2024-03-17T23:08:28.787263Z"
    }
   },
   "outputs": [
    {
     "data": {
      "text/html": [
       "<div>\n",
       "<style scoped>\n",
       "    .dataframe tbody tr th:only-of-type {\n",
       "        vertical-align: middle;\n",
       "    }\n",
       "\n",
       "    .dataframe tbody tr th {\n",
       "        vertical-align: top;\n",
       "    }\n",
       "\n",
       "    .dataframe thead th {\n",
       "        text-align: right;\n",
       "    }\n",
       "</style>\n",
       "<table border=\"1\" class=\"dataframe\">\n",
       "  <thead>\n",
       "    <tr style=\"text-align: right;\">\n",
       "      <th></th>\n",
       "      <th>reviewText</th>\n",
       "      <th>overall</th>\n",
       "      <th>helpful_ratio</th>\n",
       "      <th>review_length</th>\n",
       "      <th>preprocessed_text</th>\n",
       "      <th>processed_len</th>\n",
       "    </tr>\n",
       "  </thead>\n",
       "  <tbody>\n",
       "    <tr>\n",
       "      <th>113556</th>\n",
       "      <td>awewsome</td>\n",
       "      <td>1</td>\n",
       "      <td>0.0</td>\n",
       "      <td>8</td>\n",
       "      <td></td>\n",
       "      <td>0</td>\n",
       "    </tr>\n",
       "    <tr>\n",
       "      <th>154521</th>\n",
       "      <td>as expeceted</td>\n",
       "      <td>1</td>\n",
       "      <td>0.0</td>\n",
       "      <td>12</td>\n",
       "      <td></td>\n",
       "      <td>0</td>\n",
       "    </tr>\n",
       "    <tr>\n",
       "      <th>212609</th>\n",
       "      <td>They are perfedt.</td>\n",
       "      <td>1</td>\n",
       "      <td>0.0</td>\n",
       "      <td>17</td>\n",
       "      <td></td>\n",
       "      <td>0</td>\n",
       "    </tr>\n",
       "  </tbody>\n",
       "</table>\n",
       "</div>"
      ],
      "text/plain": [
       "               reviewText  overall  helpful_ratio  review_length  \\\n",
       "113556           awewsome        1            0.0              8   \n",
       "154521       as expeceted        1            0.0             12   \n",
       "212609  They are perfedt.        1            0.0             17   \n",
       "\n",
       "       preprocessed_text  processed_len  \n",
       "113556                                0  \n",
       "154521                                0  \n",
       "212609                                0  "
      ]
     },
     "execution_count": 38,
     "metadata": {},
     "output_type": "execute_result"
    }
   ],
   "source": [
    "#creating review preprocessed text column - as there are a few texts of length 0\n",
    "df['processed_len'] = df['preprocessed_text'].apply(lambda x: len(x))\n",
    "\n",
    "#printing rows where length of preprocessed text is 0\n",
    "df[df['processed_len'] == 0]"
   ]
  },
  {
   "cell_type": "code",
   "execution_count": 39,
   "id": "8b261aa83f1b7fc4",
   "metadata": {
    "ExecuteTime": {
     "end_time": "2024-03-17T23:08:29.169122Z",
     "start_time": "2024-03-17T23:08:28.898022Z"
    }
   },
   "outputs": [
    {
     "name": "stdout",
     "output_type": "stream",
     "text": [
      "Before: 234101\n",
      "After: 234098\n"
     ]
    }
   ],
   "source": [
    "#removing those\n",
    "print('Before:', df.shape[0])\n",
    "df = df[df['processed_len'] != 0]\n",
    "print('After:', df.shape[0])"
   ]
  },
  {
   "cell_type": "code",
   "execution_count": 40,
   "id": "100f72c7e9fa2978",
   "metadata": {
    "ExecuteTime": {
     "end_time": "2024-03-17T23:08:33.395423Z",
     "start_time": "2024-03-17T23:08:29.170180Z"
    }
   },
   "outputs": [
    {
     "name": "stdout",
     "output_type": "stream",
     "text": [
      "Saving the preprocessed data...\n"
     ]
    }
   ],
   "source": [
    "print('Saving the preprocessed data...')\n",
    "df.to_csv('data/preprocessed.csv', index=False)"
   ]
  }
 ],
 "metadata": {
  "kernelspec": {
   "display_name": "Python 3 (ipykernel)",
   "language": "python",
   "name": "python3"
  },
  "language_info": {
   "codemirror_mode": {
    "name": "ipython",
    "version": 3
   },
   "file_extension": ".py",
   "mimetype": "text/x-python",
   "name": "python",
   "nbconvert_exporter": "python",
   "pygments_lexer": "ipython3",
   "version": "3.11.4"
  }
 },
 "nbformat": 4,
 "nbformat_minor": 5
}
