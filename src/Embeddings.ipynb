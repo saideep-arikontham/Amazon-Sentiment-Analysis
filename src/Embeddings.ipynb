{
 "cells": [
  {
   "cell_type": "code",
   "execution_count": 7,
   "id": "initial_id",
   "metadata": {
    "collapsed": true,
    "ExecuteTime": {
     "end_time": "2024-03-17T23:23:21.061511Z",
     "start_time": "2024-03-17T23:23:21.054601Z"
    }
   },
   "outputs": [],
   "source": [
    "import gensim\n",
    "import pandas as pd\n",
    "from sklearn.metrics import classification_report\n",
    "from sklearn.metrics import confusion_matrix, accuracy_score, precision_score, recall_score, f1_score\n",
    "import seaborn as sns\n",
    "import numpy as np\n",
    "\n",
    "import warnings\n",
    "warnings.filterwarnings(\"ignore\")\n"
   ]
  },
  {
   "cell_type": "code",
   "outputs": [
    {
     "data": {
      "text/plain": "                                               reviewText  overall  \\\n0       Installing the game was a struggle (because of...        0   \n1       If you like rally cars get this game you will ...        1   \n2       1st shipment received a book instead of the ga...        0   \n3       I had Dirt 2 on Xbox 360 and it was an okay ga...        1   \n4       Overall this is a well done racing game, with ...        1   \n...                                                   ...      ...   \n234093  I've bought 10 of these over the past year to ...        1   \n234094  OK, I have to admit, the price of this item di...        0   \n234095  I love my skull face mask. It makes me outstan...        1   \n234096  This mask of course as described is half-face ...        1   \n234097  Good light weight for just cool nights or rain...        1   \n\n        helpful_ratio  review_length  \\\n0            0.666667            779   \n1            0.000000            304   \n2            0.000000            282   \n3            1.000000            294   \n4            0.000000            715   \n...               ...            ...   \n234093       1.000000            243   \n234094       0.000000           1260   \n234095       0.000000            202   \n234096       0.000000            149   \n234097       0.000000            108   \n\n                                        preprocessed_text  processed_len  \n0       installing game struggle games windows live bu...            506  \n1       like rally cars get game fun oriented european...            188  \n2       st shipment received book instead game nd ship...            194  \n3       dirt xbox okay game started playing games lapt...            171  \n4       overall well done racing game very good graphi...            502  \n...                                                   ...            ...  \n234093  bought over past year give gifts friends club ...            159  \n234094  ok admit price item not expectations unfairly ...            806  \n234095  love skull face mask makes outstand rest fello...            124  \n234096  mask course described half face but long prote...             90  \n234097  good light weight just cool nights rain half h...             85  \n\n[234098 rows x 6 columns]",
      "text/html": "<div>\n<style scoped>\n    .dataframe tbody tr th:only-of-type {\n        vertical-align: middle;\n    }\n\n    .dataframe tbody tr th {\n        vertical-align: top;\n    }\n\n    .dataframe thead th {\n        text-align: right;\n    }\n</style>\n<table border=\"1\" class=\"dataframe\">\n  <thead>\n    <tr style=\"text-align: right;\">\n      <th></th>\n      <th>reviewText</th>\n      <th>overall</th>\n      <th>helpful_ratio</th>\n      <th>review_length</th>\n      <th>preprocessed_text</th>\n      <th>processed_len</th>\n    </tr>\n  </thead>\n  <tbody>\n    <tr>\n      <th>0</th>\n      <td>Installing the game was a struggle (because of...</td>\n      <td>0</td>\n      <td>0.666667</td>\n      <td>779</td>\n      <td>installing game struggle games windows live bu...</td>\n      <td>506</td>\n    </tr>\n    <tr>\n      <th>1</th>\n      <td>If you like rally cars get this game you will ...</td>\n      <td>1</td>\n      <td>0.000000</td>\n      <td>304</td>\n      <td>like rally cars get game fun oriented european...</td>\n      <td>188</td>\n    </tr>\n    <tr>\n      <th>2</th>\n      <td>1st shipment received a book instead of the ga...</td>\n      <td>0</td>\n      <td>0.000000</td>\n      <td>282</td>\n      <td>st shipment received book instead game nd ship...</td>\n      <td>194</td>\n    </tr>\n    <tr>\n      <th>3</th>\n      <td>I had Dirt 2 on Xbox 360 and it was an okay ga...</td>\n      <td>1</td>\n      <td>1.000000</td>\n      <td>294</td>\n      <td>dirt xbox okay game started playing games lapt...</td>\n      <td>171</td>\n    </tr>\n    <tr>\n      <th>4</th>\n      <td>Overall this is a well done racing game, with ...</td>\n      <td>1</td>\n      <td>0.000000</td>\n      <td>715</td>\n      <td>overall well done racing game very good graphi...</td>\n      <td>502</td>\n    </tr>\n    <tr>\n      <th>...</th>\n      <td>...</td>\n      <td>...</td>\n      <td>...</td>\n      <td>...</td>\n      <td>...</td>\n      <td>...</td>\n    </tr>\n    <tr>\n      <th>234093</th>\n      <td>I've bought 10 of these over the past year to ...</td>\n      <td>1</td>\n      <td>1.000000</td>\n      <td>243</td>\n      <td>bought over past year give gifts friends club ...</td>\n      <td>159</td>\n    </tr>\n    <tr>\n      <th>234094</th>\n      <td>OK, I have to admit, the price of this item di...</td>\n      <td>0</td>\n      <td>0.000000</td>\n      <td>1260</td>\n      <td>ok admit price item not expectations unfairly ...</td>\n      <td>806</td>\n    </tr>\n    <tr>\n      <th>234095</th>\n      <td>I love my skull face mask. It makes me outstan...</td>\n      <td>1</td>\n      <td>0.000000</td>\n      <td>202</td>\n      <td>love skull face mask makes outstand rest fello...</td>\n      <td>124</td>\n    </tr>\n    <tr>\n      <th>234096</th>\n      <td>This mask of course as described is half-face ...</td>\n      <td>1</td>\n      <td>0.000000</td>\n      <td>149</td>\n      <td>mask course described half face but long prote...</td>\n      <td>90</td>\n    </tr>\n    <tr>\n      <th>234097</th>\n      <td>Good light weight for just cool nights or rain...</td>\n      <td>1</td>\n      <td>0.000000</td>\n      <td>108</td>\n      <td>good light weight just cool nights rain half h...</td>\n      <td>85</td>\n    </tr>\n  </tbody>\n</table>\n<p>234098 rows × 6 columns</p>\n</div>"
     },
     "execution_count": 8,
     "metadata": {},
     "output_type": "execute_result"
    }
   ],
   "source": [
    "df = pd.read_csv('data/preprocessed.csv')\n",
    "df"
   ],
   "metadata": {
    "collapsed": false,
    "ExecuteTime": {
     "end_time": "2024-03-17T23:23:26.427394Z",
     "start_time": "2024-03-17T23:23:22.616589Z"
    }
   },
   "id": "43d203e1da99cab4",
   "execution_count": 8
  },
  {
   "cell_type": "code",
   "outputs": [],
   "source": [
    "\n",
    "def create_w2v(embedding_dim, words, window, epochs, sg):\n",
    "    '''\n",
    "    creating word2vec or skipgram.\n",
    "    '''\n",
    "    #Creating Word2Vec\n",
    "    w2v_model = gensim.models.Word2Vec(words , vector_size = embedding_dim , window = window , min_count = 1, epochs = epochs, sg = sg)\n",
    "    print(f\"- {'Word2Vec' if(sg==0) else 'Skipgram'} Created\")\n",
    "    print(f'- Vocabulary count: {len(w2v_model.wv)}')\n",
    "    print(f'''- Similar words for word \"great:\\n\"{w2v_model.wv.most_similar('great')}''')\n",
    "    \n",
    "    return w2v_model\n",
    "    \n",
    "\n",
    "def get_sentence_embedding(sent, model, flag):\n",
    "    '''\n",
    "    create embeddings by calculating mean of vectors of words in each review (preprocessed_text)\n",
    "    '''\n",
    "    list_vectors = []\n",
    "    for word in sent:\n",
    "        if(flag):\n",
    "            #indicates fasttext\n",
    "            vector = model.get_word_vector(word)\n",
    "        else:\n",
    "            vector = model.wv[word]\n",
    "        list_vectors.append(vector)\n",
    "    mean_vector = np.array(list_vectors).mean(axis=0)\n",
    "    return mean_vector\n",
    "\n",
    "\n",
    "# Creating \"embeddings\" column\n",
    "def get_embedding_cols(df, embedding_dim, model, flag):\n",
    "    '''\n",
    "    returns df with embedded columns. flag indicates if its fasttext\n",
    "    '''\n",
    "    #df['embeddings'] = df['preprocessed_text'].apply(lambda x: get_sentence_embedding(x.split(), model))\n",
    "    df['embeddings'] = df['preprocessed_text'].apply(lambda x: get_sentence_embedding(x.split(), model, flag))\n",
    "    \n",
    "\n",
    "    #creating a column for each vector in embedding - 100 columns\n",
    "    cols = [f'e_{i}' for i in range(1, embedding_dim + 1)]\n",
    "    df[cols] = pd.DataFrame(df['embeddings'].tolist(), index= df.index)\n",
    "    print('- Embeddings are created.')\n",
    "    return df\n"
   ],
   "metadata": {
    "collapsed": false,
    "ExecuteTime": {
     "end_time": "2024-03-17T23:23:31.056677Z",
     "start_time": "2024-03-17T23:23:31.037208Z"
    }
   },
   "id": "7013f09a4db26e31",
   "execution_count": 9
  },
  {
   "cell_type": "markdown",
   "source": [
    "### Fasttext"
   ],
   "metadata": {
    "collapsed": false
   },
   "id": "3353180713fffb3a"
  },
  {
   "cell_type": "code",
   "outputs": [],
   "source": [
    "df.to_csv('data/text_label.txt', columns = ['preprocessed_text'], header = None, index = False)"
   ],
   "metadata": {
    "collapsed": false,
    "ExecuteTime": {
     "end_time": "2024-03-17T23:23:40.409620Z",
     "start_time": "2024-03-17T23:23:38.789765Z"
    }
   },
   "id": "66ef99b4b18b786",
   "execution_count": 10
  },
  {
   "cell_type": "code",
   "outputs": [
    {
     "name": "stderr",
     "output_type": "stream",
     "text": [
      "Read 24M words\n",
      "Number of words:  49568\n",
      "Number of labels: 0\n",
      "Progress: 100.0% words/sec/thread:   68386 lr:  0.000000 avg.loss:  1.215623 ETA:   0h 0m 0s\n"
     ]
    },
    {
     "name": "stdout",
     "output_type": "stream",
     "text": [
      "FASTTEXT 100 VECTOR EMBEDDING DIMENSIONS:\n",
      "=========================================\n",
      "- Embeddings are created.\n",
      "- Fasttext embeddings Created\n",
      "- Vocabulary count: 49568\n",
      "- Similar words for word \"great:\n",
      "\"[(0.8861614465713501, 'good'), (0.8857290148735046, 'excellent'), (0.8426099419593811, 'fantastic'), (0.8311927318572998, 'excelllent'), (0.8246669173240662, 'well'), (0.8161651492118835, 'awesome'), (0.8105279803276062, 'amazing'), (0.8065727949142456, 'nice'), (0.8002344965934753, 'outstanding'), (0.7834881544113159, 'perfect')]\n"
     ]
    }
   ],
   "source": [
    "import fasttext\n",
    "\n",
    "model = fasttext.train_unsupervised('data/text_label.txt', dim = 100)\n",
    "\n",
    "print(f'FASTTEXT {model.dim} VECTOR EMBEDDING DIMENSIONS:')\n",
    "print(f'=========================================')\n",
    "\n",
    "ft_df_100 = get_embedding_cols(df, 100, model, True)\n",
    "\n",
    "#writing to a new file\n",
    "ft_df_100.to_csv('data/fasttext_100.csv', index = False)\n",
    "\n",
    "print('- Fasttext embeddings Created')\n",
    "print(f'- Vocabulary count: {len(model.words)}')\n",
    "print(f'''- Similar words for word \"great:\\n\"{model.get_nearest_neighbors('great', k=10)}''')\n",
    "\n",
    "model.save_model('models/fasttext_model.bin')\n"
   ],
   "metadata": {
    "collapsed": false,
    "ExecuteTime": {
     "end_time": "2024-03-17T23:30:34.380372Z",
     "start_time": "2024-03-17T23:23:45.948410Z"
    }
   },
   "id": "eeb71a40cc4e7d00",
   "execution_count": 11
  },
  {
   "cell_type": "markdown",
   "source": [
    "### Word2Vec - CBOW"
   ],
   "metadata": {
    "collapsed": false
   },
   "id": "e04975b572a737b1"
  },
  {
   "cell_type": "code",
   "outputs": [
    {
     "data": {
      "text/plain": "[['installing',\n  'game',\n  'struggle',\n  'games',\n  'windows',\n  'live',\n  'bugs',\n  'championship',\n  'races',\n  'cars',\n  'unlocked',\n  'buying',\n  'addon',\n  'game',\n  'paid',\n  'nearly',\n  'dollars',\n  'when',\n  'game',\n  'new',\n  'not',\n  'like',\n  'idea',\n  'keep',\n  'paying',\n  'keep',\n  'playing',\n  'noticed',\n  'no',\n  'improvement',\n  'physics',\n  'graphics',\n  'compared',\n  'dirt',\n  'tossed',\n  'garbage',\n  'vowed',\n  'never',\n  'buy',\n  'another',\n  'codemasters',\n  'game',\n  'really',\n  'tired',\n  'arcade',\n  'style',\n  'rally',\n  'racing',\n  'games',\n  'anyway',\n  'continue',\n  'get',\n  'fix',\n  'richard',\n  'burns',\n  'rally',\n  'http',\n  'www',\n  'amazon',\n  'com',\n  'richard',\n  'burns',\n  'rally',\n  'pc',\n  'dp',\n  'b',\n  'c',\n  'ref',\n  'sr',\n  'ie',\n  'utf',\n  'qid',\n  'sr',\n  'keywords',\n  'richard',\n  'burns',\n  'reading',\n  'review',\n  'enjoyed',\n  'sure',\n  'rate',\n  'helpful'],\n ['like',\n  'rally',\n  'cars',\n  'get',\n  'game',\n  'fun',\n  'oriented',\n  'european',\n  'market',\n  'since',\n  'america',\n  'not',\n  'huge',\n  'rally',\n  'fan',\n  'party',\n  'music',\n  'very',\n  'european',\n  'even',\n  'voices',\n  'game',\n  'very',\n  'english',\n  'accent',\n  'multiplayer',\n  'not',\n  'best',\n  'but',\n  'works',\n  'just',\n  'ok'],\n ['st',\n  'shipment',\n  'received',\n  'book',\n  'instead',\n  'game',\n  'nd',\n  'shipment',\n  'got',\n  'fake',\n  'one',\n  'game',\n  'arrived',\n  'wrong',\n  'key',\n  'inside',\n  'sealed',\n  'box',\n  'got',\n  'contact',\n  'codemasters',\n  'send',\n  'pictures',\n  'dvd',\n  'content',\n  'said',\n  'nothing',\n  'fake',\n  'dvd',\n  'returned',\n  'good',\n  'bye']]"
     },
     "execution_count": 14,
     "metadata": {},
     "output_type": "execute_result"
    }
   ],
   "source": [
    "words = []\n",
    "for i in df['preprocessed_text'].values:\n",
    "    words.append(i.split())\n",
    "words[:3]"
   ],
   "metadata": {
    "collapsed": false,
    "ExecuteTime": {
     "end_time": "2024-03-17T23:32:44.679205Z",
     "start_time": "2024-03-17T23:32:40.351440Z"
    }
   },
   "id": "6d037ebd82cdf00a",
   "execution_count": 14
  },
  {
   "cell_type": "code",
   "outputs": [
    {
     "name": "stdout",
     "output_type": "stream",
     "text": [
      "\n",
      "WORD2VEC 100 VECTOR EMBEDDING DIMENSIONS:\n",
      "=========================================\n",
      "- Word2Vec Created\n",
      "- Vocabulary count: 86922\n",
      "- Similar words for word \"great:\n",
      "\"[('excellent', 0.8629738688468933), ('fantastic', 0.8284962177276611), ('terrific', 0.8072965741157532), ('awesome', 0.797069251537323), ('wonderful', 0.7778352499008179), ('good', 0.7708988785743713), ('outstanding', 0.7545972466468811), ('amazing', 0.754551112651825), ('fabulous', 0.7236035466194153), ('superb', 0.7132914066314697)]\n",
      "- Embeddings are created.\n"
     ]
    }
   ],
   "source": [
    " \n",
    "print(f'\\nWORD2VEC 100 VECTOR EMBEDDING DIMENSIONS:')\n",
    "print(f'=========================================')\n",
    "\n",
    "#word2vec\n",
    "cbow_model = create_w2v(100, words, 7, 50, sg = 0)\n",
    "\n",
    "df1 = df.copy()\n",
    "\n",
    "#creating embedding columns\n",
    "df1 = get_embedding_cols(df1, 100, cbow_model, False)\n",
    "df1.to_csv(f'word2vec_100.csv', index = False)\n",
    "\n",
    "cbow_model.save('models/cbow.model')\n"
   ],
   "metadata": {
    "collapsed": false,
    "ExecuteTime": {
     "end_time": "2024-03-17T23:44:15.544701Z",
     "start_time": "2024-03-17T23:33:03.891538Z"
    }
   },
   "id": "71a3ba9a70c0c6a5",
   "execution_count": 15
  },
  {
   "cell_type": "markdown",
   "source": [
    "### Word2Vec - Skipgram"
   ],
   "metadata": {
    "collapsed": false
   },
   "id": "daa4b8a1ee37fd1b"
  },
  {
   "cell_type": "code",
   "outputs": [
    {
     "name": "stdout",
     "output_type": "stream",
     "text": [
      "\n",
      "SKIPGRAM 100 VECTOR EMBEDDING DIMENSIONS:\n",
      "=========================================\n",
      "- Skipgram Created\n",
      "- Vocabulary count: 86922\n",
      "- Similar words for word \"great:\n",
      "\"[('good', 0.8826044797897339), ('excellent', 0.7908362150192261), ('well', 0.7878409624099731), ('nice', 0.777850329875946), ('really', 0.7529785633087158), ('perfect', 0.7394362092018127), ('love', 0.7147756814956665), ('also', 0.7115322947502136), ('like', 0.709590494632721), ('very', 0.7042110562324524)]\n",
      "- Embeddings are created.\n"
     ]
    }
   ],
   "source": [
    "  \n",
    "print(f'\\nSKIPGRAM 100 VECTOR EMBEDDING DIMENSIONS:')\n",
    "print(f'=========================================')\n",
    "\n",
    "#word2vec\n",
    "sg_model = create_w2v(100, words, 7, 50, sg = 1)\n",
    "\n",
    "df1 = df.copy()\n",
    "\n",
    "#creating embedding columns\n",
    "df1 = get_embedding_cols(df1, 100, sg_model, False)\n",
    "df1.to_csv(f'skipgram_100.csv', index = False)\n",
    "\n",
    "sg_model.save('models/skipgram.model')\n"
   ],
   "metadata": {
    "collapsed": false,
    "ExecuteTime": {
     "end_time": "2024-03-18T00:31:13.634282Z",
     "start_time": "2024-03-17T23:44:26.687070Z"
    }
   },
   "id": "cf10a6c5b0792b1e",
   "execution_count": 16
  },
  {
   "cell_type": "code",
   "outputs": [
    {
     "name": "stdout",
     "output_type": "stream",
     "text": [
      "Embeddings are created.\n"
     ]
    }
   ],
   "source": [
    "print('Embeddings are created.')"
   ],
   "metadata": {
    "collapsed": false,
    "ExecuteTime": {
     "end_time": "2024-03-18T01:56:55.604456Z",
     "start_time": "2024-03-18T01:56:55.583449Z"
    }
   },
   "id": "f1bef57d682f63c2",
   "execution_count": 17
  },
  {
   "cell_type": "code",
   "outputs": [],
   "source": [],
   "metadata": {
    "collapsed": false
   },
   "id": "5539b959fd04215f"
  }
 ],
 "metadata": {
  "kernelspec": {
   "display_name": "Python 3",
   "language": "python",
   "name": "python3"
  },
  "language_info": {
   "codemirror_mode": {
    "name": "ipython",
    "version": 2
   },
   "file_extension": ".py",
   "mimetype": "text/x-python",
   "name": "python",
   "nbconvert_exporter": "python",
   "pygments_lexer": "ipython2",
   "version": "2.7.6"
  }
 },
 "nbformat": 4,
 "nbformat_minor": 5
}
