{
 "cells": [
  {
   "cell_type": "code",
   "execution_count": 5,
   "id": "initial_id",
   "metadata": {
    "collapsed": true,
    "ExecuteTime": {
     "end_time": "2024-03-17T23:07:03.979728Z",
     "start_time": "2024-03-17T23:06:53.533856Z"
    }
   },
   "outputs": [
    {
     "name": "stdout",
     "output_type": "stream",
     "text": [
      "We have a total of 234161 reviews\n",
      "Saving the combined reviews to new file...\n",
      "Saved as \"data/reviews.csv\"\n"
     ]
    }
   ],
   "source": [
    "import pandas as pd\n",
    "import numpy as np\n",
    "\n",
    "import warnings\n",
    "warnings.filterwarnings(\"ignore\")\n",
    "\n",
    "df1 = pd.read_json('data/reviews_Video_Games_5.json', lines = True)\n",
    "df2 = pd.read_json('data/reviews_Patio_Lawn_and_Garden_5.json', lines = True)\n",
    "df3 = pd.read_json('data/reviews_Automotive_5.json', lines = True)\n",
    "\n",
    "#merging dataframes\n",
    "final_df = pd.concat([df1, df2, df3])\n",
    "\n",
    "\n",
    "#Writing to a new file removing overall rating=3 records to later group (1, 2) as bad and (4, 5) as good\n",
    "final_df = final_df[final_df['overall'].isin([1,2,4,5])]\n",
    "print(f'We have a total of {final_df.shape[0]} reviews')\n",
    "print('Saving the combined reviews to new file...')\n",
    "final_df.to_csv('data/reviews.csv', index=False)\n",
    "print('Saved as \"data/reviews.csv\"')"
   ]
  }
 ],
 "metadata": {
  "kernelspec": {
   "display_name": "Python 3",
   "language": "python",
   "name": "python3"
  },
  "language_info": {
   "codemirror_mode": {
    "name": "ipython",
    "version": 2
   },
   "file_extension": ".py",
   "mimetype": "text/x-python",
   "name": "python",
   "nbconvert_exporter": "python",
   "pygments_lexer": "ipython2",
   "version": "2.7.6"
  }
 },
 "nbformat": 4,
 "nbformat_minor": 5
}
